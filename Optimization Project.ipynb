{
 "cells": [
  {
   "cell_type": "code",
   "execution_count": 406,
   "metadata": {},
   "outputs": [],
   "source": [
    "import numpy as np\n",
    "import matplotlib.pyplot as plt"
   ]
  },
  {
   "cell_type": "markdown",
   "metadata": {},
   "source": [
    "# Coordinate Descent"
   ]
  },
  {
   "cell_type": "code",
   "execution_count": null,
   "metadata": {},
   "outputs": [],
   "source": [
    "def objective(X,y,beta,lam):\n",
    "    obj = (1/2)*np.linalg.norm(y - X@beta, 2)**2 + lam*np.linalg.norm(beta, 1)\n",
    "    return obj"
   ]
  },
  {
   "cell_type": "code",
   "execution_count": 407,
   "metadata": {},
   "outputs": [],
   "source": [
    "\n",
    "#coordinatewise gradient for lasso regression\n",
    "\n",
    "def compute_coordinate_grad(X,y,beta,coordinate,lam):\n",
    "    \"\"\"\n",
    "    INPUT\n",
    "    X...Data Matrix\n",
    "    Y...Targets\n",
    "    coordinate...direction which will be optimized\n",
    "    lam...lambda\n",
    "    \"\"\"\n",
    "    \n",
    "    # Dimensions\n",
    "    n,p = X.shape\n",
    "    \n",
    "    # j-th column of X\n",
    "    x_j = X[:,coordinate]\n",
    "    \n",
    "    # j-th element of beta\n",
    "    beta_j = beta[coordinate]\n",
    "    \n",
    "    # Regularizer\n",
    "    reg = lam*np.sign(beta_j)\n",
    "    \n",
    "    # Compute gradient\n",
    "    grad = -x_j@(y-X@beta) + reg\n",
    "    \n",
    "    # Return results\n",
    "    return grad"
   ]
  },
  {
   "cell_type": "code",
   "execution_count": 432,
   "metadata": {},
   "outputs": [],
   "source": [
    "def coordinate_descent(X, y, beta_0, lam, alpha, num_epochs, decr = None, accelerate = None):\n",
    "    \"\"\"\n",
    "    INPUT\n",
    "    X...Data Matrix\n",
    "    Y...Targets\n",
    "    beta_0...initial beta vector\n",
    "    alpha...learning rate\n",
    "    num_epochs...number of epochs\n",
    "    decr...Parameter to decrease learning rate in each epoch\n",
    "    accelerate...Nesterov acceleration parameter\n",
    "    \"\"\"\n",
    "    # Get Dimensions of data and prepare beta values for acceleration\n",
    "   \n",
    "    n,p = X.shape \n",
    "    beta = beta_0.copy()\n",
    "    beta_old = beta_0.copy()\n",
    "    \n",
    "    # Initialize empty objective list\n",
    "    \n",
    "    obj = []\n",
    "    obj.append(objective(X, y, beta_0, lam))   \n",
    "    \n",
    "    # Iterate over epochs\n",
    "    \n",
    "    for epoch in range(num_epochs):\n",
    "        \n",
    "        # Sample coordinates for current epoch\n",
    "        \n",
    "        ind = np.random.permutation(p)\n",
    "        \n",
    "        if accelerate is not None:\n",
    "            \n",
    "            # Nesterov if accelerate is True\n",
    "            \n",
    "            beta_new = beta.copy()  \n",
    "            beta_temp = beta + accelerate * (beta - beta_old)\n",
    "            \n",
    "            for j in ind:\n",
    "                \n",
    "                # Compute gradient at accelerated point\n",
    "                \n",
    "                grad = compute_coordinate_grad(X, y, beta_temp, coordinate = j, lam = lam)\n",
    "                \n",
    "                # update j-th component of beta\n",
    "                \n",
    "                beta[j] = beta_temp[j] - alpha*grad\n",
    "            beta_old = beta_new.copy() \n",
    "            \n",
    "        else:\n",
    "            \n",
    "            #regular Coordinate descent\n",
    "            \n",
    "            for j in ind:\n",
    "                \n",
    "                grad = compute_coordinate_grad(X, y, beta, coordinate = j, lam = lam)\n",
    "                beta[j] -= alpha*grad\n",
    "        \n",
    "        # append current objective\n",
    "        \n",
    "        obj.append(objective(X,y,beta,lam))\n",
    "        \n",
    "        # Adapt learning rate if decr = True\n",
    "        \n",
    "        if decr is not None:\n",
    "            \n",
    "            alpha *= decr\n",
    "            \n",
    "    return obj, beta"
   ]
  },
  {
   "cell_type": "markdown",
   "metadata": {},
   "source": [
    "# Proximal Gradient Descent"
   ]
  },
  {
   "cell_type": "code",
   "execution_count": 434,
   "metadata": {},
   "outputs": [],
   "source": [
    "# Soft Threshold Operator\n",
    "\n",
    "def soft_thresh(beta, lam):\n",
    "    \"\"\"\n",
    "    INPUT\n",
    "    beta...Vector beta\n",
    "    lam...lambda\n",
    "    \"\"\"\n",
    "    \n",
    "    res = np.zeros_like(beta)\n",
    "    p = len(beta)\n",
    "    \n",
    "    # adjust beta according to formula\n",
    "    \n",
    "    for i in range(p):\n",
    "        if beta[i] < -lam: \n",
    "            res[i] = beta[i] + lam\n",
    "        elif np.abs(beta[i]) < lam:\n",
    "            res[i] = 0\n",
    "        elif beta[i] > lam:\n",
    "            res[i] = beta[i] - lam\n",
    "    return res"
   ]
  },
  {
   "cell_type": "code",
   "execution_count": 435,
   "metadata": {},
   "outputs": [],
   "source": [
    "def proximal_gradient_descent(X, y, beta_0, lam, alpha, num_epochs, decr = None, accelerate = None):\n",
    "    \"\"\"\n",
    "    INPUT\n",
    "    X...Data Matrix\n",
    "    Y...Targets\n",
    "    beta_0...initial beta vector\n",
    "    alpha...learning rate\n",
    "    num_epochs...number of epochs\n",
    "    decr...Parameter to decrease stepsize in each epoch\n",
    "    accelerate...Nesterov acceleration parameter\n",
    "    \"\"\"\n",
    "       \n",
    "    n,p = X.shape\n",
    "    beta = beta_0.copy()\n",
    "    beta_old = beta_0.copy()\n",
    "    \n",
    "    # initialize objective list\n",
    "    \n",
    "    obj = []\n",
    "    obj.append(objective(X, y, beta_0, lam))    \n",
    "    \n",
    "    # Iterate over epochs\n",
    "    \n",
    "    for epoch in range(num_epochs):\n",
    "        \n",
    "        # Nesterov if accelerate = True\n",
    "        \n",
    "        if accelerate is not None:\n",
    "            \n",
    "            beta_new = beta.copy()  \n",
    "            beta_temp = beta + accelerate * (beta - beta_old)\n",
    "            content = beta_temp + alpha*X.T@(y - X@beta)\n",
    "            beta = soft_thresh(content, lam*alpha)\n",
    "            beta_old = beta_new.copy()\n",
    "            \n",
    "        # updating beta with soft threshold operator according to formula\n",
    "        \n",
    "        else:\n",
    "            content = beta + alpha*X.T@(y - X@beta)\n",
    "            beta = soft_thresh(content, lam*alpha)\n",
    "        \n",
    "        # append cunrrent objective\n",
    "        \n",
    "        obj.append(objective(X, y, beta, lam))\n",
    "        \n",
    "        # adapt learnign rate if decr = True\n",
    "        \n",
    "        if decr is not None:\n",
    "            alpha *= decr\n",
    "            \n",
    "    return obj, beta"
   ]
  },
  {
   "cell_type": "markdown",
   "metadata": {},
   "source": [
    "# Comparison between the methods"
   ]
  },
  {
   "cell_type": "markdown",
   "metadata": {},
   "source": [
    " We use the **California Housing** dataset from sklearn"
   ]
  },
  {
   "cell_type": "code",
   "execution_count": 487,
   "metadata": {},
   "outputs": [
    {
     "name": "stdout",
     "output_type": "stream",
     "text": [
      "(20640, 8)\n"
     ]
    }
   ],
   "source": [
    "from sklearn.datasets import fetch_california_housing\n",
    "\n",
    "X,y = fetch_california_housing(return_X_y = True)\n",
    "\n",
    "# scaling the data\n",
    "\n",
    "X = X / (np.linalg.norm(X,axis = 0))\n",
    "\n",
    "print(X.shape)"
   ]
  },
  {
   "cell_type": "markdown",
   "metadata": {},
   "source": [
    "## Coordinate Descent vs. Proximal Gradient Descent"
   ]
  },
  {
   "cell_type": "code",
   "execution_count": 560,
   "metadata": {},
   "outputs": [
    {
     "name": "stdout",
     "output_type": "stream",
     "text": [
      "5751743.57432189\n",
      "5751674.930986824\n"
     ]
    },
    {
     "data": {
      "image/png": "[encoded data removed]",
      "text/plain": [
       "<Figure size 432x288 with 1 Axes>"
      ]
     },
     "metadata": {
      "needs_background": "light"
     },
     "output_type": "display_data"
    }
   ],
   "source": [
    "# set seed\n",
    "\n",
    "np.random.seed(2022)\n",
    "\n",
    "# define all parameters\n",
    "\n",
    "num_epochs = 100\n",
    "\n",
    "beta_0 = np.zeros(X.shape[1])\n",
    "\n",
    "alpha = 0.1\n",
    "\n",
    "lam = 0.1\n",
    "\n",
    "accelerate = None\n",
    "\n",
    "decr = 0.99\n",
    "\n",
    "# run the two methods, both accelerated and not accelerated\n",
    "\n",
    "obj1, beta1 = coordinate_descent(X, y, beta_0, lam, alpha, num_epochs, decr, accelerate)\n",
    "\n",
    "obj2, beta2 = proximal_gradient_descent(X, y, beta_0, lam, alpha, num_epochs, decr, accelerate)\n",
    "\n",
    "\n",
    "\n",
    "# Plot the four resulting objectives\n",
    "\n",
    "fig, ax = plt.subplots()\n",
    "\n",
    "xx = np.arange(1,num_epochs + 2)\n",
    "\n",
    "ax.plot(xx, obj1, label = \"Coordinate Descent\")\n",
    "ax.plot(xx, obj2, label = \"Proximal Gradient Descent\")\n",
    "\n",
    "plt.legend()\n",
    "plt.xscale(\"log\")\n",
    "plt.yscale(\"log\")\n",
    "plt.xlabel(\"Epoch\")\n",
    "plt.ylabel(\"Objective value\")\n",
    "plt.title(r\"$\\alpha$ = {}, $decrease$ = {}, $Nesterov$ = {} \".format(alpha, decr, accelerate))\n",
    "\n",
    "#comparison of minimal objective value\n",
    "print(np.min(obj1))\n",
    "print(np.min(obj2))"
   ]
  },
  {
   "cell_type": "code",
   "execution_count": 564,
   "metadata": {},
   "outputs": [
    {
     "name": "stdout",
     "output_type": "stream",
     "text": [
      "5750626.732405521\n",
      "5750624.805454258\n"
     ]
    },
    {
     "data": {
      "image/png": "[encoded data removed]",
      "text/plain": [
       "<Figure size 432x288 with 1 Axes>"
      ]
     },
     "metadata": {
      "needs_background": "light"
     },
     "output_type": "display_data"
    }
   ],
   "source": [
    "# set seed\n",
    "\n",
    "np.random.seed(2022)\n",
    "\n",
    "# define all parameters\n",
    "\n",
    "num_epochs = 100\n",
    "\n",
    "beta_0 = np.zeros(X.shape[1])\n",
    "\n",
    "alpha = 0.1\n",
    "\n",
    "lam = 0.1\n",
    "\n",
    "accelerate = 0.7\n",
    "\n",
    "decr = 0.99\n",
    "\n",
    "# run the two methods, both accelerated and not accelerated\n",
    "\n",
    "obj1, beta1 = coordinate_descent(X, y, beta_0, lam, alpha, num_epochs, decr, accelerate)\n",
    "\n",
    "obj2, beta2 = proximal_gradient_descent(X, y, beta_0, lam, alpha, num_epochs, decr, accelerate)\n",
    "\n",
    "\n",
    "\n",
    "# Plot the four resulting objectives\n",
    "\n",
    "fig, ax = plt.subplots()\n",
    "\n",
    "xx = np.arange(1,num_epochs + 2)\n",
    "\n",
    "ax.plot(xx, obj1, label = \"accelerated Coordinate Descent\")\n",
    "ax.plot(xx, obj2, label = \"accelerated Proximal Gradient Descent\")\n",
    "\n",
    "plt.legend()\n",
    "plt.xscale(\"log\")\n",
    "plt.yscale(\"log\")\n",
    "plt.xlabel(\"Epoch\")\n",
    "plt.ylabel(\"Objective value\")\n",
    "plt.title(r\"$\\alpha$ = {}, $decrease$ = {}, $Nesterov$ = {} \".format(alpha, decr, accelerate))\n",
    "\n",
    "#comparison of minimal objective value\n",
    "print(np.min(obj1))\n",
    "print(np.min(obj2))"
   ]
  },
  {
   "cell_type": "markdown",
   "metadata": {},
   "source": [
    "## Coordinate Descent vs. accelerated Proximal Gradient Descent"
   ]
  },
  {
   "cell_type": "code",
   "execution_count": null,
   "metadata": {},
   "outputs": [],
   "source": [
    "# set seed\n",
    "\n",
    "np.random.seed(2022)\n",
    "\n",
    "# define all parameters\n",
    "\n",
    "num_epochs = 100\n",
    "\n",
    "beta_0 = np.zeros(X.shape[1])\n",
    "\n",
    "alpha = 0.1\n",
    "\n",
    "lam = 0.1\n",
    "\n",
    "accelerate = 0.\n",
    "\n",
    "decr = 0.99\n",
    "\n",
    "# run the two methods, both accelerated and not accelerated\n",
    "\n",
    "obj1, beta1 = coordinate_descent(X, y, beta_0, lam, alpha, num_epochs, decr, accelerate)\n",
    "\n",
    "obj2, beta2 = proximal_gradient_descent(X, y, beta_0, lam, alpha, num_epochs, decr, accelerate)\n",
    "\n",
    "\n",
    "# Plot the four resulting objectives\n",
    "\n",
    "fig, ax = plt.subplots()\n",
    "\n",
    "xx = np.arange(1,num_epochs + 2)\n",
    "\n",
    "ax.plot(xx, obj1, label = \"Coordinate Descent\")\n",
    "ax.plot(xx, obj2, label = \"Proximal Gradient Descent\")\n",
    "\n",
    "plt.legend()\n",
    "plt.xscale(\"log\")\n",
    "plt.yscale(\"log\")\n",
    "plt.xlabel(\"Epoch\")\n",
    "plt.ylabel(\"Objective value\")\n",
    "\n",
    "\n",
    "#comparison of minimal objective value\n",
    "print(np.min(obj1))\n",
    "print(np.min(obj2))"
   ]
  },
  {
   "cell_type": "code",
   "execution_count": 536,
   "metadata": {
    "scrolled": true
   },
   "outputs": [
    {
     "name": "stdout",
     "output_type": "stream",
     "text": [
      "5749639.065837145\n",
      "5749300.374021249\n",
      "5749678.560194378\n",
      "5749300.007732601\n"
     ]
    },
    {
     "data": {
      "image/png": "[encoded data removed]",
      "text/plain": [
       "<Figure size 432x288 with 1 Axes>"
      ]
     },
     "metadata": {
      "needs_background": "light"
     },
     "output_type": "display_data"
    }
   ],
   "source": [
    "# set seed\n",
    "\n",
    "np.random.seed(2022)\n",
    "\n",
    "# define all parameters\n",
    "\n",
    "num_epochs = 400\n",
    "\n",
    "beta_0 = np.zeros(X.shape[1])\n",
    "\n",
    "alpha = 0.1\n",
    "\n",
    "lam = 0.1\n",
    "\n",
    "accelerate = 0.2\n",
    "\n",
    "decr = 0.99\n",
    "\n",
    "# run the two methods, both accelerated and not accelerated\n",
    "\n",
    "obj1, beta1 = coordinate_descent(X, y, beta_0, lam, alpha, num_epochs, decr, accelerate = None)\n",
    "\n",
    "obj2, beta2 = coordinate_descent(X, y, beta_0, lam, alpha, num_epochs, decr, accelerate)\n",
    "\n",
    "obj3, beta3 = proximal_gradient_descent(X, y, beta_0, lam, alpha, num_epochs, decr, accelerate = None)\n",
    "\n",
    "obj4, beta4 = proximal_gradient_descent(X, y, beta_0, lam, alpha, num_epochs, decr, accelerate)\n",
    "\n",
    "\n",
    "# Plot the four resulting objectives\n",
    "\n",
    "fig, ax = plt.subplots()\n",
    "\n",
    "xx = np.arange(1,num_epochs + 2)\n",
    "\n",
    "ax.plot(xx, obj1, label = \"Coordinate Descent\")\n",
    "ax.plot(xx, obj2, label = \"accelerated Coordinate Descent\")\n",
    "ax.plot(xx, obj3, label = \"Proximal Gradient Descent\")\n",
    "ax.plot(xx, obj4, label = \"accelerated Proximal Gradient Descent\")\n",
    "plt.legend()\n",
    "plt.xscale(\"log\")\n",
    "plt.yscale(\"log\")\n",
    "\n",
    "#comparison of minimal objective value\n",
    "print(np.min(obj1))\n",
    "print(np.min(obj2))\n",
    "print(np.min(obj3))\n",
    "print(np.min(obj4))"
   ]
  },
  {
   "cell_type": "code",
   "execution_count": null,
   "metadata": {},
   "outputs": [],
   "source": []
  },
  {
   "cell_type": "code",
   "execution_count": null,
   "metadata": {},
   "outputs": [],
   "source": []
  }
 ],
 "metadata": {
  "kernelspec": {
   "display_name": "Python 3",
   "language": "python",
   "name": "python3"
  },
  "language_info": {
   "codemirror_mode": {
    "name": "ipython",
    "version": 3
   },
   "file_extension": ".py",
   "mimetype": "text/x-python",
   "name": "python",
   "nbconvert_exporter": "python",
   "pygments_lexer": "ipython3",
   "version": "3.7.4"
  }
 },
 "nbformat": 4,
 "nbformat_minor": 2
}
